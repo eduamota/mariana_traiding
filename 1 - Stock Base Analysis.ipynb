{
 "cells": [
  {
   "cell_type": "markdown",
   "id": "2d11f527-424a-4cab-9bf4-02f60fc25a8d",
   "metadata": {},
   "source": [
    "# Get data and calculate returns"
   ]
  },
  {
   "cell_type": "markdown",
   "id": "97bcfce9-cdb3-4414-bf1e-c63ff56cbaad",
   "metadata": {},
   "source": [
    "### Import required modules"
   ]
  },
  {
   "cell_type": "code",
   "execution_count": 2,
   "id": "62185d74-f3ad-4bb6-9f9c-6be550e401ba",
   "metadata": {},
   "outputs": [],
   "source": [
    "import yfinance as yf\n",
    "import pandas as pd\n",
    "import numpy as np\n",
    "from datetime import datetime"
   ]
  },
  {
   "cell_type": "markdown",
   "id": "cece0fd7-75ef-4b8e-a29a-ab33475bbb30",
   "metadata": {},
   "source": [
    "### Set stock and dates variables"
   ]
  },
  {
   "cell_type": "code",
   "execution_count": 3,
   "id": "7ff61e55-d313-4194-ae0a-492c14356dcd",
   "metadata": {},
   "outputs": [],
   "source": [
    "\n",
    "ticker = 'PYPL'\n",
    "start_date = '2015-01-01'\n",
    "end_date = datetime.now().strftime('%Y-%m-%d')"
   ]
  },
  {
   "cell_type": "markdown",
   "id": "79f17e21-ebd3-4704-8b02-0678a3de9bb4",
   "metadata": {},
   "source": [
    "### Download ticker data"
   ]
  },
  {
   "cell_type": "code",
   "execution_count": 4,
   "id": "c563287f-e985-4776-a6cd-dfb0b0e94e9d",
   "metadata": {},
   "outputs": [],
   "source": [
    "df = yf.download(ticker, \n",
    "                 start=start_date, \n",
    "                 end=end_date,\n",
    "                 progress=False)\n",
    "\n",
    "df.rename(columns={'Open': 'open', 'High':'high', 'Low':'low', 'Close':'close', 'Volume':'volume', 'Adj Close':'adj_close'}, inplace=True)"
   ]
  },
  {
   "cell_type": "markdown",
   "id": "b00f1bcf-d7b7-4828-89bc-8bd1a75bf421",
   "metadata": {},
   "source": [
    "### Calculate returns"
   ]
  },
  {
   "cell_type": "markdown",
   "id": "c95799bd-e729-4e87-a517-021cb5466ef3",
   "metadata": {},
   "source": [
    "Simple returns will be calculated, as a difference between current day minus previous day. As well, log returns will be calculated this is a prefered return calcualted to make the return data nomalized."
   ]
  },
  {
   "cell_type": "code",
   "execution_count": 5,
   "id": "8fb6783e-7aa9-4319-a4aa-76e8df88c18e",
   "metadata": {},
   "outputs": [],
   "source": [
    "df['simple_rtn'] = df.adj_close.pct_change()\n",
    "df['log_rtn'] = np.log(df.adj_close/df.adj_close.shift(1))"
   ]
  },
  {
   "cell_type": "code",
   "execution_count": 6,
   "id": "7c9c7a96-dd2a-4c01-bc8c-ee430052ae45",
   "metadata": {},
   "outputs": [
    {
     "data": {
      "text/html": [
       "<div>\n",
       "<style scoped>\n",
       "    .dataframe tbody tr th:only-of-type {\n",
       "        vertical-align: middle;\n",
       "    }\n",
       "\n",
       "    .dataframe tbody tr th {\n",
       "        vertical-align: top;\n",
       "    }\n",
       "\n",
       "    .dataframe thead th {\n",
       "        text-align: right;\n",
       "    }\n",
       "</style>\n",
       "<table border=\"1\" class=\"dataframe\">\n",
       "  <thead>\n",
       "    <tr style=\"text-align: right;\">\n",
       "      <th></th>\n",
       "      <th>open</th>\n",
       "      <th>high</th>\n",
       "      <th>low</th>\n",
       "      <th>close</th>\n",
       "      <th>adj_close</th>\n",
       "      <th>volume</th>\n",
       "      <th>simple_rtn</th>\n",
       "      <th>log_rtn</th>\n",
       "    </tr>\n",
       "    <tr>\n",
       "      <th>Date</th>\n",
       "      <th></th>\n",
       "      <th></th>\n",
       "      <th></th>\n",
       "      <th></th>\n",
       "      <th></th>\n",
       "      <th></th>\n",
       "      <th></th>\n",
       "      <th></th>\n",
       "    </tr>\n",
       "  </thead>\n",
       "  <tbody>\n",
       "    <tr>\n",
       "      <th>2015-07-06</th>\n",
       "      <td>38.000000</td>\n",
       "      <td>39.750000</td>\n",
       "      <td>36.000000</td>\n",
       "      <td>36.709999</td>\n",
       "      <td>36.709999</td>\n",
       "      <td>5866600</td>\n",
       "      <td>NaN</td>\n",
       "      <td>NaN</td>\n",
       "    </tr>\n",
       "    <tr>\n",
       "      <th>2015-07-07</th>\n",
       "      <td>37.720001</td>\n",
       "      <td>37.810001</td>\n",
       "      <td>36.000000</td>\n",
       "      <td>36.619999</td>\n",
       "      <td>36.619999</td>\n",
       "      <td>7359000</td>\n",
       "      <td>-0.002452</td>\n",
       "      <td>-0.002455</td>\n",
       "    </tr>\n",
       "    <tr>\n",
       "      <th>2015-07-08</th>\n",
       "      <td>36.340000</td>\n",
       "      <td>36.360001</td>\n",
       "      <td>34.529999</td>\n",
       "      <td>34.700001</td>\n",
       "      <td>34.700001</td>\n",
       "      <td>5387700</td>\n",
       "      <td>-0.052430</td>\n",
       "      <td>-0.053855</td>\n",
       "    </tr>\n",
       "    <tr>\n",
       "      <th>2015-07-09</th>\n",
       "      <td>35.099998</td>\n",
       "      <td>35.520000</td>\n",
       "      <td>33.990002</td>\n",
       "      <td>34.500000</td>\n",
       "      <td>34.500000</td>\n",
       "      <td>3760100</td>\n",
       "      <td>-0.005764</td>\n",
       "      <td>-0.005780</td>\n",
       "    </tr>\n",
       "    <tr>\n",
       "      <th>2015-07-10</th>\n",
       "      <td>34.660000</td>\n",
       "      <td>35.189999</td>\n",
       "      <td>33.980000</td>\n",
       "      <td>34.689999</td>\n",
       "      <td>34.689999</td>\n",
       "      <td>4472800</td>\n",
       "      <td>0.005507</td>\n",
       "      <td>0.005492</td>\n",
       "    </tr>\n",
       "  </tbody>\n",
       "</table>\n",
       "</div>"
      ],
      "text/plain": [
       "                 open       high        low      close  adj_close   volume  \\\n",
       "Date                                                                         \n",
       "2015-07-06  38.000000  39.750000  36.000000  36.709999  36.709999  5866600   \n",
       "2015-07-07  37.720001  37.810001  36.000000  36.619999  36.619999  7359000   \n",
       "2015-07-08  36.340000  36.360001  34.529999  34.700001  34.700001  5387700   \n",
       "2015-07-09  35.099998  35.520000  33.990002  34.500000  34.500000  3760100   \n",
       "2015-07-10  34.660000  35.189999  33.980000  34.689999  34.689999  4472800   \n",
       "\n",
       "            simple_rtn   log_rtn  \n",
       "Date                              \n",
       "2015-07-06         NaN       NaN  \n",
       "2015-07-07   -0.002452 -0.002455  \n",
       "2015-07-08   -0.052430 -0.053855  \n",
       "2015-07-09   -0.005764 -0.005780  \n",
       "2015-07-10    0.005507  0.005492  "
      ]
     },
     "execution_count": 6,
     "metadata": {},
     "output_type": "execute_result"
    }
   ],
   "source": [
    "df.head()"
   ]
  },
  {
   "cell_type": "code",
   "execution_count": 16,
   "id": "e45e21fa-4a7b-4989-b478-dac9710bedd5",
   "metadata": {},
   "outputs": [],
   "source": [
    "import seaborn as sns \n",
    "import scipy.stats as scs\n",
    "import statsmodels.api as sm\n",
    "import statsmodels.tsa.api as smt\n",
    "import matplotlib.pyplot as plt"
   ]
  },
  {
   "cell_type": "code",
   "execution_count": 8,
   "id": "f7c944ea-9784-47ff-add4-596b7c0bcdc1",
   "metadata": {},
   "outputs": [],
   "source": [
    "r_range = np.linspace(min(df.log_rtn), max(df.log_rtn), num=1000)\n",
    "mu = df.log_rtn.mean()\n",
    "sigma = df.log_rtn.std()\n",
    "norm_pdf = scs.norm.pdf(r_range, loc=mu, scale=sigma) "
   ]
  },
  {
   "cell_type": "code",
   "execution_count": 21,
   "id": "2c86d6f8-a8a4-4518-a8fb-c0f4ac47d376",
   "metadata": {},
   "outputs": [
    {
     "name": "stderr",
     "output_type": "stream",
     "text": [
      "D:\\Programs\\Anaconda\\envs\\mariana_traiding\\lib\\site-packages\\seaborn\\distributions.py:2557: FutureWarning: `distplot` is a deprecated function and will be removed in a future version. Please adapt your code to use either `displot` (a figure-level function with similar flexibility) or `histplot` (an axes-level function for histograms).\n",
      "  warnings.warn(msg, FutureWarning)\n",
      "D:\\Programs\\Anaconda\\envs\\mariana_traiding\\lib\\site-packages\\statsmodels\\graphics\\gofplots.py:993: UserWarning: marker is redundantly defined by the 'marker' keyword argument and the fmt string \"bo\" (-> marker='o'). The keyword argument will take precedence.\n",
      "  ax.plot(x, y, fmt, **plot_style)\n"
     ]
    },
    {
     "data": {
      "text/plain": [
       "Text(0.5, 1.0, 'Q-Q plot')"
      ]
     },
     "execution_count": 21,
     "metadata": {},
     "output_type": "execute_result"
    },
    {
     "data": {
      "image/png": "[encoded data removed]",
      "text/plain": [
       "<Figure size 1152x576 with 2 Axes>"
      ]
     },
     "metadata": {
      "needs_background": "light"
     },
     "output_type": "display_data"
    }
   ],
   "source": [
    "fig, ax = plt.subplots(1, 2, figsize=(16, 8))\n",
    "\n",
    "# histogram\n",
    "sns.distplot(df.log_rtn, kde=False, norm_hist=True, ax=ax[0]) \n",
    "ax[0].set_title(f'Distribution of {ticker} returns', fontsize=16) \n",
    "ax[0].plot(r_range, norm_pdf, 'g', lw=2, \n",
    "           label=f'N({mu:.2f}, {sigma**2:.4f})')\n",
    "ax[0].legend(loc='upper left');\n",
    "\n",
    "# Q-Q plot\n",
    "qq = sm.qqplot(df.log_rtn.values, line='q', ax=ax[1])\n",
    "ax[1].set_title('Q-Q plot', fontsize = 16)"
   ]
  },
  {
   "cell_type": "code",
   "execution_count": null,
   "id": "bee4865f-259e-4545-b48a-a727e91227d2",
   "metadata": {},
   "outputs": [],
   "source": []
  }
 ],
 "metadata": {
  "kernelspec": {
   "display_name": "Python 3",
   "language": "python",
   "name": "python3"
  },
  "language_info": {
   "codemirror_mode": {
    "name": "ipython",
    "version": 3
   },
   "file_extension": ".py",
   "mimetype": "text/x-python",
   "name": "python",
   "nbconvert_exporter": "python",
   "pygments_lexer": "ipython3",
   "version": "3.7.10"
  }
 },
 "nbformat": 4,
 "nbformat_minor": 5
}
